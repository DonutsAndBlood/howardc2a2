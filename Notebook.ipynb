{
 "cells": [
  {
   "cell_type": "code",
   "execution_count": null,
   "metadata": {},
   "outputs": [],
   "source": [
    "\"\"\" \n",
    "3 - Crie um Notebook na linguagem de sua preferência e carregue o DataSet para um Data Frame chamado df_original\n",
    "4 - Faça uma cópia do Data Frame com nome de df_no_salary\n",
    "5 - A partir df_no_salary, remova o atributo salary \n",
    "\"\"\"\n",
    "\n",
    "import pandas as pd\n",
    "import matplotlib.pyplot as plt\n",
    "from sklearn.preprocessing import LabelEncoder\n",
    "from sklearn.linear_model import LogisticRegression, LinearRegression\n",
    "from sklearn.model_selection import train_test_split\n",
    "from sklearn.metrics import classification_report, roc_auc_score, recall_score, precision_score, accuracy_score, roc_curve\n",
    "\n",
    "\n",
    "df_original = pd.read_csv('data\\Placement_Data_Full_Class.csv',sep=',')\n",
    "\n",
    "df_no_salary = df_original.copy().drop('salary', axis=1)\n",
    "\n",
    "df_original"
   ]
  },
  {
   "cell_type": "code",
   "execution_count": null,
   "metadata": {},
   "outputs": [],
   "source": [
    "\"\"\" A partir de agora iremos fazer uma análise exploratória para elucidar a \n",
    "diferença salarial entre homens e mulheres, em especial na área de técnologia. \"\"\"\n",
    "#Desvio padrão do salário\n",
    "print(df_original['salary'].std()) #Desvio Padrão\n",
    "\"\"\"Elucida um grande desvio, desigualdade entre os salários mais baixos e os mais altos.\"\"\""
   ]
  },
  {
   "cell_type": "code",
   "execution_count": null,
   "metadata": {},
   "outputs": [],
   "source": [
    "# Estastísticas de cada coluna\n",
    "print(df_original.describe())"
   ]
  },
  {
   "cell_type": "code",
   "execution_count": null,
   "metadata": {},
   "outputs": [],
   "source": [
    "#Análise dos maiores salários baseados em sexo\n",
    "df_no_salary_analise = df_original[['salary','gender']]\n",
    "df_no_salary_analise = df_no_salary_analise.sort_values(by=\"salary\", ascending=False)\n",
    "df_degree_t = df_original[['degree_t','gender','salary']]\n",
    "df_no_salary_analise.head()\n",
    "\"\"\" Predominância masculina entre os maiores salários \"\"\""
   ]
  },
  {
   "cell_type": "code",
   "execution_count": null,
   "metadata": {},
   "outputs": [],
   "source": [
    "# Diferença salarial entre homens e mulheres\n",
    "masculino = df_no_salary_analise[df_no_salary_analise['gender'] == 'M']\n",
    "feminino = df_no_salary_analise[df_no_salary_analise['gender'] == 'F']\n",
    "\n",
    "fig, ax = plt.subplots()\n",
    "\n",
    "ax.hist(masculino['salary'], bins=20, alpha=0.5, label='Masculino')\n",
    "ax.hist(feminino['salary'], bins=20, alpha=0.5, label='Feminino')\n",
    "\n",
    "ax.set_title('Distribuição de salários por sexo')\n",
    "ax.set_xlabel('Salário')\n",
    "ax.set_ylabel('Frequência')\n",
    "ax.legend()\n",
    "plt.show()\n",
    "\"\"\" Percebemos além de uma disparidade da quantidade entre mulheres e homens no dataset o fato de que há mais \n",
    "ocorrência de homens com salários maiores do que mulheres. E que mulheres possuem uma frequência maior que\n",
    "os homens quando se trata do menor salário. \"\"\""
   ]
  },
  {
   "cell_type": "code",
   "execution_count": null,
   "metadata": {},
   "outputs": [],
   "source": [
    "#6 - Faça uma análise exploratória do conjunto de dados df_original (EDA - Exploratory Data Analysis)\n",
    "# Media de salario de mulheres e o homens\n",
    "media_por_genero = df_no_salary_analise.groupby('gender')['salary'].mean()\n",
    "\n",
    "media_por_genero.plot(kind='bar')\n",
    "plt.xlabel('Gênero')\n",
    "plt.ylabel('Média Salarial')\n",
    "plt.title('Média Salarial por Gênero')\n",
    "plt.show()\n",
    "\"\"\" Gráfico mostra que homens possuem uma média salarial maior que as mulheres. \"\"\""
   ]
  },
  {
   "cell_type": "code",
   "execution_count": null,
   "metadata": {},
   "outputs": [],
   "source": [
    "#6 - Faça uma análise exploratória do conjunto de dados df_original (EDA - Exploratory Data Analysis)\n",
    "# Quantidade de pessoas que fazem SCI&TECH por Gênero\n",
    "tecnologia = df_degree_t[df_degree_t['degree_t'] == 'Sci&Tech']\n",
    "media_sci = tecnologia.groupby('gender')['degree_t'].size()\n",
    "media_sci.plot(kind='bar')\n",
    "plt.xlabel('Gênero')\n",
    "plt.ylabel('Quantidade de pessoas que fazem Ciência e tecnologia')\n",
    "plt.title('Quantidade de pessoas que fazem Ciência e tecnologia por Gênero')\n",
    "plt.show()\n",
    "\"\"\" Dados motram que existe uma grande diferença entre pessoas que atuam no ramo da ciência e de técnologia\n",
    "comparada aos homens, mas isso pode ser causado pela diferença da quantidade de pessoas nessa categoria. \"\"\""
   ]
  },
  {
   "cell_type": "code",
   "execution_count": null,
   "metadata": {},
   "outputs": [],
   "source": [
    "tecnologia = df_degree_t[df_degree_t['degree_t'] == 'Comm&Mgmt']\n",
    "media_sci = tecnologia.groupby('gender')['degree_t'].size()\n",
    "media_sci.plot(kind='bar')\n",
    "plt.xlabel('Gênero')\n",
    "plt.ylabel('Quantidade de pessoas que atuam em Management')\n",
    "plt.title('Quantidade de pessoas que atuam em Management')\n",
    "plt.show()\n",
    "\"\"\"Porém existe uma quantia maior de mulheres em outros campos, provando assim que, de fato, existe\n",
    "uma taxa menor de mulheres atuam na área de tecnologia.\"\"\"\n"
   ]
  },
  {
   "cell_type": "code",
   "execution_count": null,
   "metadata": {},
   "outputs": [],
   "source": [
    "tecnologia = df_degree_t[df_degree_t['degree_t'] == 'Sci&Tech']\n",
    "media_por_genero = tecnologia.groupby('gender')['salary'].mean()\n",
    "media_por_genero.plot(kind='bar')\n",
    "plt.xlabel('Gênero')\n",
    "plt.ylabel('Média Salarial')\n",
    "plt.title('Média Salarial por Gênero')\n",
    "plt.show()\n",
    "\"\"\" A média salarial entre mulheres e homens no ramo de tecnologia é bem expressivo \n",
    "Concluímos que existe uma diferença salarial entre homens e mulheres, e ela é evidente. Apesar da diferença \n",
    "de entradaentre homens e mulheres no CSV existe uma diferença na quantidade de mulheres que fazem ciência e \n",
    "técnologia e outras áreas. Que pode ou não ser causada pela diferença grande de salários entre homens e\n",
    "mulheres nessa área.\"\"\""
   ]
  },
  {
   "cell_type": "code",
   "execution_count": null,
   "metadata": {},
   "outputs": [],
   "source": [
    "#Histograma de médias de valores de cada coluna\n",
    "df_original.hist(bins=25, figsize=(15,10))\n",
    "plt.show()"
   ]
  },
  {
   "cell_type": "code",
   "execution_count": null,
   "metadata": {},
   "outputs": [],
   "source": [
    "# criando uma cópia do DataFrame df_no_salary\n",
    "df_encoded = df_no_salary.copy()\n",
    "\n",
    "# selecionando as colunas categóricas para aplicar o LabelEncoder\n",
    "categorical_cols = ['gender', 'ssc_b', 'hsc_b', 'hsc_s', 'degree_t', 'workex', 'specialisation', 'status']\n",
    "\n",
    "# criando uma instância do LabelEncoder\n",
    "le = LabelEncoder()\n",
    "\n",
    "# aplicando o LabelEncoder em cada coluna categórica\n",
    "for col in categorical_cols:\n",
    "    df_encoded[col] = le.fit_transform(df_encoded[col])\n",
    "\n",
    "# exibindo o DataFrame com as colunas categóricas codificadas\n",
    "print(df_encoded)"
   ]
  },
  {
   "cell_type": "code",
   "execution_count": null,
   "metadata": {},
   "outputs": [],
   "source": [
    "\"\"\" 8 - Selecione um dos modelos de classificação aprendidos até agora na disciplina (Naive Bayes ou Regressão Logística) e \n",
    "treine-o com df_no_salary. Seu objetivo é prever a recolocação (status = [Placed/Recolocado, Not Placed/Não Recolocado]) de cada indivíduo. \"\"\"\n",
    "\n",
    "le = LabelEncoder()\n",
    "df_encoded['gender'] = le.fit_transform(df_encoded['gender'])\n",
    "df_encoded['ssc_b'] = le.fit_transform(df_encoded['ssc_b'])\n",
    "df_encoded['hsc_b'] = le.fit_transform(df_encoded['hsc_b'])\n",
    "df_encoded['hsc_s'] = le.fit_transform(df_encoded['hsc_s'])\n",
    "df_encoded['degree_t'] = le.fit_transform(df_encoded['degree_t'])\n",
    "df_encoded['workex'] = le.fit_transform(df_encoded['workex'])\n",
    "df_encoded['specialisation'] = le.fit_transform(df_encoded['specialisation'])\n",
    "df_encoded['status'] = le.fit_transform(df_encoded['status'])\n",
    "\n",
    "x = df_encoded.drop(['status'], axis=1)\n",
    "y = df_encoded['status']\n",
    "\n",
    "x_train, x_test, y_train, y_test = train_test_split(x, y, test_size=0.2, random_state=42)\n",
    "\n",
    "clf = LogisticRegression(max_iter=1000, tol=0.001)\n",
    "clf.fit(x_train, y_train)\n",
    "\n",
    "y_pred = clf.predict(x_test)\n",
    "\n",
    "acc = accuracy_score(y_test, y_pred)\n",
    "print(f'Acurácia do modelo: {acc:.2f}')"
   ]
  },
  {
   "cell_type": "code",
   "execution_count": null,
   "metadata": {},
   "outputs": [],
   "source": [
    "#Precision\n",
    "precision = precision_score(y_test, y_pred)\n",
    "print(\"Precision:\", precision)"
   ]
  },
  {
   "cell_type": "code",
   "execution_count": null,
   "metadata": {},
   "outputs": [],
   "source": [
    "#Recall\n",
    "recall = recall_score(y_test, y_pred)\n",
    "print(\"Recall:\", recall)"
   ]
  },
  {
   "cell_type": "code",
   "execution_count": null,
   "metadata": {},
   "outputs": [],
   "source": [
    "#AUC\n",
    "print(classification_report(y_test, y_pred))\n",
    "\n",
    "auc = roc_auc_score(y_test, clf.predict_proba(x_test)[:, 1])\n",
    "print(f'AUC: {auc:.2f}')"
   ]
  },
  {
   "cell_type": "code",
   "execution_count": null,
   "metadata": {},
   "outputs": [],
   "source": [
    "#ROC\n",
    "fpr, tpr, thresholds = roc_curve(y_test, y_pred)\n",
    "plt.plot(fpr, tpr, label=f\"AUC={auc:.2f}\")\n",
    "plt.plot([0, 1], [0, 1], linestyle=\"--\")\n",
    "plt.xlabel(\"Taxa de Falso Positivo (FPR)\")\n",
    "plt.ylabel(\"Taxa de Verdadeiro Positivo (TPR)\")\n",
    "plt.title(\"Curva ROC\")\n",
    "plt.legend()\n",
    "plt.show()"
   ]
  },
  {
   "cell_type": "code",
   "execution_count": null,
   "metadata": {},
   "outputs": [],
   "source": [
    "\"\"\" O Recall, também conhecido como sensibilidade, mede a proporção de exemplos positivos (verdadeiros positivos + falsos negativos) \n",
    "que foram corretamente identificados como positivos (verdadeiros positivos). Ele é uma métrica útil quando queremos minimizar os falsos \n",
    "negativos, isto é, quando o custo de uma classificação incorreta de um exemplo positivo é muito alto. No nosso caso, um falso negativo seria \n",
    "um aluno que foi recolocado mas o modelo previu que não foi recolocado.\n",
    "\n",
    "A Precision, por sua vez, mede a proporção de exemplos identificados como positivos (verdadeiros positivos + falsos positivos) que são realmente \n",
    "positivos (verdadeiros positivos). Ela é uma métrica útil quando queremos minimizar os falsos positivos, isto é, quando o custo de uma \n",
    "classificação incorreta de um exemplo negativo é muito alto. No nosso caso, um falso positivo seria um aluno que não foi recolocado mas o modelo \n",
    "previu que foi recolocado.\n",
    "\n",
    "A curva ROC (Receiver Operating Characteristic) é uma curva que representa a taxa de verdadeiros positivos em relação à taxa de falsos positivos \n",
    "para diferentes valores de limiar de classificação. Ela é uma métrica útil quando queremos avaliar o desempenho do modelo em diferentes níveis de \n",
    "especificidade e sensibilidade.\n",
    "\n",
    "O AUC (Area Under the Curve) é a área sob a curva ROC e é uma métrica que varia de 0 a 1, sendo 1 o valor ideal. Ele representa a capacidade do \n",
    "modelo de distinguir entre exemplos positivos e negativos.\n",
    "\n",
    "De maneira geral, bons resultados em Recall, Precision, ROC e AUC indicam que o modelo tem uma boa capacidade de classificação. \n",
    "No entanto, o valor ideal das métricas pode variar de acordo com o problema em questão e com as implicações dos falsos positivos e falsos negativos.\n",
    " Portanto, é importante avaliar cada métrica de forma individual e em conjunto para determinar se os resultados obtidos pelo modelo são \n",
    " considerados bons ou ruins. \"\"\""
   ]
  }
 ],
 "metadata": {
  "kernelspec": {
   "display_name": "Python 3",
   "language": "python",
   "name": "python3"
  },
  "language_info": {
   "codemirror_mode": {
    "name": "ipython",
    "version": 3
   },
   "file_extension": ".py",
   "mimetype": "text/x-python",
   "name": "python",
   "nbconvert_exporter": "python",
   "pygments_lexer": "ipython3",
   "version": "3.9.6"
  },
  "orig_nbformat": 4
 },
 "nbformat": 4,
 "nbformat_minor": 2
}
